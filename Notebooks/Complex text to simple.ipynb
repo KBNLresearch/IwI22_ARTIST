{
 "cells": [
  {
   "cell_type": "code",
   "execution_count": null,
   "metadata": {},
   "outputs": [],
   "source": [
    "import tensorflow as tf\n",
    "from transformers import AutoTokenizer, AutoModelForSeq2SeqLM\n",
    "from transformers import AutoModelForSeq2SeqLM, DataCollatorForSeq2Seq, Seq2SeqTrainingArguments, Seq2SeqTrainer\n",
    "\n",
    "tokenizer = AutoTokenizer.from_pretrained(\"yhavinga/t5-v1.1-base-dutch-cnn-test\")\n",
    "\n",
    "model = AutoModelForSeq2SeqLM.from_pretrained(\"yhavinga/t5-v1.1-base-dutch-cnn-test\")"
   ]
  },
  {
   "cell_type": "code",
   "execution_count": null,
   "metadata": {},
   "outputs": [],
   "source": [
    "def summarize(text, name):\n",
    "    name = name\n",
    "    ## Split in paragraphs\n",
    "    text = text.split(\"\\n\\n\")\n",
    "    for par in text:\n",
    "        length_original = len(par.split(\" \"))\n",
    "        max_length_sum = int(length_original * 0.75)\n",
    "        min_length_sum = int(length_original * 0.25)\n",
    "        if (max_length_original > 0) & (max_length_sum > 0) :\n",
    "            inputs = tokenizer.encode(\"summarize: \" + par,\n",
    "                                  return_tensors='pt',\n",
    "                                  max_length=max_length_original,\n",
    "                                  truncation=True)\n",
    "            summary_ids = model.generate(inputs, max_length=max_length_sum, min_length=min_length_sum, length_penalty=5., num_beams=2)\n",
    "            summary = tokenizer.decode(summary_ids[0])\n",
    "            with open(f'Path to output folder\\{name}_simple.txt', 'a') as f:\n",
    "                f.write(summary + \"\\n\")"
   ]
  },
  {
   "cell_type": "code",
   "execution_count": null,
   "metadata": {},
   "outputs": [],
   "source": [
    "import os\n",
    "path = 'Path to input folder'"
   ]
  },
  {
   "cell_type": "code",
   "execution_count": null,
   "metadata": {},
   "outputs": [],
   "source": [
    "for root, dirs, files in os.walk(path):\n",
    "    for name in files:\n",
    "        file_name = name.split('.')[0]\n",
    "        with open(f'Path to input folder{name}', 'r', encoding=\"utf-8\") as f:\n",
    "             data = f.read()\n",
    "        summarize(data, file_name)            "
   ]
  }
 ],
 "metadata": {
  "kernelspec": {
   "display_name": "Python 3",
   "language": "python",
   "name": "python3"
  },
  "language_info": {
   "codemirror_mode": {
    "name": "ipython",
    "version": 3
   },
   "file_extension": ".py",
   "mimetype": "text/x-python",
   "name": "python",
   "nbconvert_exporter": "python",
   "pygments_lexer": "ipython3",
   "version": "3.8.5"
  }
 },
 "nbformat": 4,
 "nbformat_minor": 4
}
