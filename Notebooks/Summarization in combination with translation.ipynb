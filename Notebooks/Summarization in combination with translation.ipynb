{
 "cells": [
  {
   "cell_type": "code",
   "execution_count": null,
   "metadata": {},
   "outputs": [],
   "source": [
    "## Import packages\n",
    "from googletrans import Translator, constants\n",
    "from pprint import pprint\n",
    "translator = Translator()\n",
    "\n",
    "from transformers import pipeline\n",
    "summarizer = pipeline(\"summarization\")"
   ]
  },
  {
   "cell_type": "code",
   "execution_count": null,
   "metadata": {},
   "outputs": [],
   "source": [
    "def trans_and_sum(text, name):\n",
    "    name = name\n",
    "    text = text.split(\"\\n\\n\")\n",
    "    for par in text:\n",
    "        translation = translator.translate(par, dest=\"en\")\n",
    "        trans_par = translation.text\n",
    "        translation = trans_par\n",
    "        length = len(trans_par.split(\" \"))\n",
    "        min_length = int(length * 0.25)\n",
    "        max_length = int(length * 0.75)\n",
    "        if (length > 0) & (max_length > 0) :\n",
    "            # Initialize the HuggingFace summarization pipeline\n",
    "            summarized = summarizer(translation, min_length=min_length, max_length=max_length)\n",
    "            sum_par = [d['summary_text'] for d in summarized][0]\n",
    "            translation = translator.translate(sum_par, dest=\"nl\")\n",
    "            result = translation.text        \n",
    "            with open(f'Path to output folder{name}_simple.txt', 'a') as f:\n",
    "                f.write(result + \"\\n\")\n",
    "    "
   ]
  },
  {
   "cell_type": "code",
   "execution_count": null,
   "metadata": {},
   "outputs": [],
   "source": [
    "import os\n",
    "path = 'Path to input folder'"
   ]
  },
  {
   "cell_type": "code",
   "execution_count": null,
   "metadata": {},
   "outputs": [],
   "source": [
    "for root, dirs, files in os.walk(path):\n",
    "    for name in files:\n",
    "        file_name = name.split('.')[0]\n",
    "        print(name)\n",
    "        with open(f'Path to input folder\\{name}', 'r', encoding=\"utf-8\") as f:\n",
    "             data = f.read()\n",
    "        trans_and_sum(data, file_name)        \n",
    "        "
   ]
  }
 ],
 "metadata": {
  "kernelspec": {
   "display_name": "Python 3",
   "language": "python",
   "name": "python3"
  },
  "language_info": {
   "codemirror_mode": {
    "name": "ipython",
    "version": 3
   },
   "file_extension": ".py",
   "mimetype": "text/x-python",
   "name": "python",
   "nbconvert_exporter": "python",
   "pygments_lexer": "ipython3",
   "version": "3.8.5"
  }
 },
 "nbformat": 4,
 "nbformat_minor": 4
}
